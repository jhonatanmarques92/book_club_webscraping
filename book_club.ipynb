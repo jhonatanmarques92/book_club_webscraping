{
 "cells": [
  {
   "cell_type": "markdown",
   "metadata": {},
   "source": [
    "# 1 - Imports"
   ]
  },
  {
   "cell_type": "code",
   "execution_count": 57,
   "metadata": {
    "ExecuteTime": {
     "end_time": "2022-04-22T03:12:49.831324Z",
     "start_time": "2022-04-22T03:12:49.795314Z"
    }
   },
   "outputs": [
    {
     "ename": "ModuleNotFoundError",
     "evalue": "No module named 'iteration_utilities'",
     "output_type": "error",
     "traceback": [
      "\u001b[1;31m---------------------------------------------------------------------------\u001b[0m",
      "\u001b[1;31mModuleNotFoundError\u001b[0m                       Traceback (most recent call last)",
      "\u001b[1;32m<ipython-input-57-53bcfe60f858>\u001b[0m in \u001b[0;36m<module>\u001b[1;34m\u001b[0m\n\u001b[0;32m      7\u001b[0m \u001b[1;32mimport\u001b[0m \u001b[0mre\u001b[0m\u001b[1;33m\u001b[0m\u001b[1;33m\u001b[0m\u001b[0m\n\u001b[0;32m      8\u001b[0m \u001b[1;32mimport\u001b[0m \u001b[0mtime\u001b[0m\u001b[1;33m\u001b[0m\u001b[1;33m\u001b[0m\u001b[0m\n\u001b[1;32m----> 9\u001b[1;33m \u001b[1;32mfrom\u001b[0m \u001b[0miteration_utilities\u001b[0m \u001b[1;32mimport\u001b[0m \u001b[0mduplicates\u001b[0m\u001b[1;33m\u001b[0m\u001b[1;33m\u001b[0m\u001b[0m\n\u001b[0m",
      "\u001b[1;31mModuleNotFoundError\u001b[0m: No module named 'iteration_utilities'"
     ]
    }
   ],
   "source": [
    "import pandas as pd\n",
    "import requests\n",
    "from bs4 import BeautifulSoup as bs\n",
    "from datetime import datetime\n",
    "from selenium import webdriver\n",
    "from selenium.webdriver.chrome.options import Options\n",
    "import re\n",
    "import time"
   ]
  },
  {
   "cell_type": "code",
   "execution_count": 16,
   "metadata": {
    "ExecuteTime": {
     "end_time": "2022-04-22T01:24:58.428158Z",
     "start_time": "2022-04-22T01:24:58.415157Z"
    }
   },
   "outputs": [],
   "source": [
    "headers = {'User-Agent': 'Mozilla/5.0 (Macintosh; Intel Mac OS X 10_11_5) AppleWebKit/537.36 (KHTML, like Gecko) Chrome/50.0.2661.102 Safari/537.36'}\n",
    "\n",
    "chrome_options = Options()\n",
    "chrome_options.add_argument('--headless')\n",
    "chrome_options.add_argument('--no-sandbox')\n",
    "chrome_options.add_argument('--disable-dev-shm-usage')"
   ]
  },
  {
   "cell_type": "markdown",
   "metadata": {},
   "source": [
    "## 1.1 - Funções"
   ]
  },
  {
   "cell_type": "code",
   "execution_count": 25,
   "metadata": {
    "ExecuteTime": {
     "end_time": "2022-04-22T01:32:02.727535Z",
     "start_time": "2022-04-22T01:32:02.707536Z"
    }
   },
   "outputs": [],
   "source": [
    "def url_bs(url):\n",
    "    page = requests.get(url, headers=headers)\n",
    "    soup = bs(page.text, 'html.parser')\n",
    "    return soup"
   ]
  },
  {
   "cell_type": "markdown",
   "metadata": {},
   "source": [
    "# 2 - Coleta de dados"
   ]
  },
  {
   "cell_type": "markdown",
   "metadata": {},
   "source": [
    "## 2.1 - Webscraping"
   ]
  },
  {
   "cell_type": "code",
   "execution_count": 164,
   "metadata": {
    "ExecuteTime": {
     "end_time": "2022-04-22T04:14:48.476789Z",
     "start_time": "2022-04-22T04:14:47.457280Z"
    }
   },
   "outputs": [],
   "source": [
    "# lista de categorias\n",
    "lista_categoria = []\n",
    "soup = url_bs('https://books.toscrape.com/')\n",
    "aux = soup.find('ul', class_='nav nav-list').find_all('a')\n",
    "aux1 = [p.get_text('href') for p in aux]\n",
    "for e in aux1:\n",
    "    #aux2 = re.findall('\\w[a-z]{0,}.\\S', e)\n",
    "    aux2 = re.findall('\\w{0,}.\\S+', e)\n",
    "    aux2 = ''.join(aux2)\n",
    "    lista_categoria.append(aux2)\n",
    "\n",
    "del lista_categoria[0]"
   ]
  },
  {
   "cell_type": "code",
   "execution_count": 23,
   "metadata": {
    "ExecuteTime": {
     "end_time": "2022-04-22T01:29:59.572253Z",
     "start_time": "2022-04-22T01:29:15.040943Z"
    }
   },
   "outputs": [],
   "source": [
    "# lista das url das categorias\n",
    "# browser = webdriver.Chrome()\n",
    "# browser.get('https://books.toscrape.com')\n",
    "browser = url_sel_n('https://books.toscrape.com')\n",
    "lista_url_categoria = []\n",
    "for i in range(1, len(lista_categoria) + 1):\n",
    "    browser.find_element_by_xpath(f'//*[@id=\"default\"]/div[1]/div/div/aside/div[2]/ul/li/ul/li[{i}]/a').click()\n",
    "    lista_url_categoria.append(browser.current_url)\n",
    "    \n",
    "browser.close()"
   ]
  },
  {
   "cell_type": "code",
   "execution_count": 212,
   "metadata": {
    "ExecuteTime": {
     "end_time": "2022-04-22T04:59:55.877639Z",
     "start_time": "2022-04-22T04:59:17.375754Z"
    },
    "code_folding": []
   },
   "outputs": [
    {
     "name": "stdout",
     "output_type": "stream",
     "text": [
      "1\n",
      "valor de p: 0\n",
      "https://books.toscrape.com/catalogue/category/books/mystery_3/page-2.html\n",
      "valor de p: 1\n",
      "finalizado\n",
      "1\n",
      "valor de p: 0\n",
      "https://books.toscrape.com/catalogue/category/books/historical-fiction_4/page-2.html\n",
      "valor de p: 1\n",
      "finalizado\n",
      "3\n",
      "valor de p: 0\n",
      "https://books.toscrape.com/catalogue/category/books/sequential-art_5/page-2.html\n",
      "valor de p: 1\n",
      "valor de p: 2\n",
      "valor de p: 3\n",
      "finalizado\n"
     ]
    }
   ],
   "source": [
    "browser = webdriver.Chrome()\n",
    "\n",
    "# Listas auxiliares\n",
    "lista_nome = []\n",
    "lista_preco = []\n",
    "lista_avaliacao = []\n",
    "lista_estoque = []\n",
    "\n",
    "for i in range (4):\n",
    "    categoria = lista_categoria[i]\n",
    "    url_categoria = lista_url_categoria[i]\n",
    "    browser.get(url_categoria)\n",
    "    soup = url_bs(url_categoria)   \n",
    "    \n",
    "################  PÁGINA 1 ####################  \n",
    "################################ NOME DO LIVRO ############################################\n",
    "    aux_nome = soup.find_all('h3')\n",
    "    nome = [p.get_text() for p in aux_nome]\n",
    "    lista_nome = lista_nome + nome\n",
    "###########################################################################################\n",
    "\n",
    "    paginacao = soup.find('li', class_='current')\n",
    "    if paginacao:\n",
    "        aux = soup.find('li', class_='current').get_text()\n",
    "        aux1 = re.findall('\\d{0,}', aux)\n",
    "        aux2 = list(filter(None, aux1))[1]\n",
    "        aux2 = int(aux2) - 1\n",
    "\n",
    "        for p in range(aux2 + 1):\n",
    "            if p == 0:\n",
    "                ####### ENVIA PARA A PÁGINA 2 #################3\n",
    "                browser.find_element_by_xpath('//*[@id=\"default\"]/div[1]/div/div/div/section/div[2]/div/ul/li[2]/a').click()\n",
    "                soup = url_bs(browser.current_url)\n",
    "                print(browser.current_url)\n",
    "\n",
    "            elif (p > 0) & (p != aux2):\n",
    "                ######## PÁGINAS 2 ###############\n",
    "################################ NOME DO LIVRO ############################################\n",
    "                aux_nome = soup.find_all('h3')\n",
    "                nome = [p.get_text() for p in aux_nome]\n",
    "                lista_nome = lista_nome + nome\n",
    "###########################################################################################            \n",
    "                browser.find_element_by_xpath('//*[@id=\"default\"]/div[1]/div/div/div/section/div[2]/div/ul/li[3]/a').click()\n",
    "                soup = url_bs(browser.current_url)\n",
    "\n",
    "            else:\n",
    "                ######## PÁGINA 3 EM DIANTE ###########\n",
    "################################ NOME DO LIVRO ############################################\n",
    "                aux_nome = soup.find_all('h3')\n",
    "                nome = [p.get_text() for p in aux_nome]\n",
    "                lista_nome = lista_nome + nome \n",
    "###########################################################################################\n",
    "        \n",
    "browser.close()"
   ]
  },
  {
   "cell_type": "code",
   "execution_count": 213,
   "metadata": {
    "ExecuteTime": {
     "end_time": "2022-04-22T05:00:08.756998Z",
     "start_time": "2022-04-22T05:00:08.739000Z"
    }
   },
   "outputs": [
    {
     "data": {
      "text/plain": [
       "144"
      ]
     },
     "execution_count": 213,
     "metadata": {},
     "output_type": "execute_result"
    }
   ],
   "source": [
    "len(lista_nome)"
   ]
  },
  {
   "cell_type": "code",
   "execution_count": 215,
   "metadata": {
    "ExecuteTime": {
     "end_time": "2022-04-22T05:00:33.999455Z",
     "start_time": "2022-04-22T05:00:33.978433Z"
    }
   },
   "outputs": [
    {
     "data": {
      "text/plain": [
       "144"
      ]
     },
     "execution_count": 215,
     "metadata": {},
     "output_type": "execute_result"
    }
   ],
   "source": [
    "11 + 32 + 26 + 75"
   ]
  },
  {
   "cell_type": "code",
   "execution_count": 214,
   "metadata": {
    "ExecuteTime": {
     "end_time": "2022-04-22T05:00:11.100045Z",
     "start_time": "2022-04-22T05:00:11.083042Z"
    }
   },
   "outputs": [
    {
     "data": {
      "text/plain": [
       "['The Wicked + The ...', 'The Wicked + The ...']"
      ]
     },
     "execution_count": 214,
     "metadata": {},
     "output_type": "execute_result"
    }
   ],
   "source": [
    "[x for x in lista_nome if lista_nome.count(x) >= 2]"
   ]
  },
  {
   "cell_type": "code",
   "execution_count": 216,
   "metadata": {
    "ExecuteTime": {
     "end_time": "2022-04-22T05:01:01.528081Z",
     "start_time": "2022-04-22T05:01:01.506079Z"
    },
    "scrolled": false
   },
   "outputs": [
    {
     "data": {
      "text/plain": [
       "[\"It's Only the Himalayas\",\n",
       " 'Full Moon over Noahâ\\x80\\x99s ...',\n",
       " 'See America: A Celebration ...',\n",
       " 'Vagabonding: An Uncommon Guide ...',\n",
       " 'Under the Tuscan Sun',\n",
       " 'A Summer In Europe',\n",
       " 'The Great Railway Bazaar',\n",
       " 'A Year in Provence ...',\n",
       " 'The Road to Little ...',\n",
       " 'Neither Here nor There: ...',\n",
       " '1,000 Places to See ...',\n",
       " 'Sharp Objects',\n",
       " 'In a Dark, Dark ...',\n",
       " 'The Past Never Ends',\n",
       " 'A Murder in Time',\n",
       " 'The Murder of Roger ...',\n",
       " 'The Last Mile (Amos ...',\n",
       " 'That Darkness (Gardiner and ...',\n",
       " 'Tastes Like Fear (DI ...',\n",
       " 'A Time of Torment ...',\n",
       " 'A Study in Scarlet ...',\n",
       " 'Poisonous (Max Revere Novels ...',\n",
       " 'Murder at the 42nd ...',\n",
       " 'Most Wanted',\n",
       " 'Hide Away (Eve Duncan ...',\n",
       " 'Boar Island (Anna Pigeon ...',\n",
       " 'The Widow',\n",
       " 'Playing with Fire',\n",
       " 'What Happened on Beale ...',\n",
       " \"The Bachelor Girl's Guide ...\",\n",
       " 'Delivering the Truth (Quaker ...',\n",
       " 'The Mysterious Affair at ...',\n",
       " 'In the Woods (Dublin ...',\n",
       " 'The Silkworm (Cormoran Strike ...',\n",
       " 'The Exiled',\n",
       " \"The Cuckoo's Calling (Cormoran ...\",\n",
       " 'Extreme Prey (Lucas Davenport ...',\n",
       " 'Career of Evil (Cormoran ...',\n",
       " \"The No. 1 Ladies' ...\",\n",
       " 'The Girl You Lost',\n",
       " 'The Girl In The ...',\n",
       " 'Blood Defense (Samantha Brinkman ...',\n",
       " \"1st to Die (Women's ...\",\n",
       " 'Tipping the Velvet',\n",
       " 'Forever and Forever: The ...',\n",
       " 'A Flight of Arrows ...',\n",
       " 'The House by the ...',\n",
       " 'Mrs. Houdini',\n",
       " 'The Marriage of Opposites',\n",
       " 'Glory over Everything: Beyond ...',\n",
       " 'Love, Lies and Spies',\n",
       " 'A Paris Apartment',\n",
       " 'Lilac Girls',\n",
       " 'The Constant Princess (The ...',\n",
       " 'The Invention of Wings',\n",
       " 'World Without End (The ...',\n",
       " 'The Passion of Dolssa',\n",
       " 'Girl With a Pearl ...',\n",
       " 'Voyager (Outlander #3)',\n",
       " 'The Red Tent',\n",
       " 'The Last Painting of ...',\n",
       " 'The Guernsey Literary and ...',\n",
       " 'Girl in the Blue ...',\n",
       " 'Between Shades of Gray',\n",
       " 'While You Were Mine',\n",
       " 'The Secret Healer',\n",
       " 'Starlark',\n",
       " 'Lost Among the Living',\n",
       " \"A Spy's Devotion (The ...\",\n",
       " \"Scott Pilgrim's Precious Little ...\",\n",
       " 'Tsubasa: WoRLD CHRoNiCLE 2 ...',\n",
       " 'This One Summer',\n",
       " 'The Nameless City (The ...',\n",
       " 'Saga, Volume 5 (Saga ...',\n",
       " 'Rat Queens, Vol. 3: ...',\n",
       " 'Princess Jellyfish 2-in-1 Omnibus, ...',\n",
       " 'Pop Gun War, Volume ...',\n",
       " 'Patience',\n",
       " 'Outcast, Vol. 1: A ...',\n",
       " 'orange: The Complete Collection ...',\n",
       " 'Lumberjanes, Vol. 2: Friendship ...',\n",
       " 'Lumberjanes, Vol. 1: Beware ...',\n",
       " 'Lumberjanes Vol. 3: A ...',\n",
       " 'I Hate Fairyland, Vol. ...',\n",
       " 'I am a Hero ...',\n",
       " 'Giant Days, Vol. 2 ...',\n",
       " 'Danganronpa Volume 1',\n",
       " 'Codename Baboushka, Volume 1: ...',\n",
       " 'Camp Midnight',\n",
       " 'Bitch Planet, Vol. 1: ...',\n",
       " 'The Shadow Hero (The ...',\n",
       " 'Fables, Vol. 1: Legends ...',\n",
       " 'Batman: The Long Halloween ...',\n",
       " 'Batman: The Dark Knight ...',\n",
       " 'Wonder Woman: Earth One, ...',\n",
       " 'We Are Robin, Vol. ...',\n",
       " 'Through the Woods',\n",
       " 'Superman Vol. 1: Before ...',\n",
       " 'So Cute It Hurts!!, ...',\n",
       " 'Robin War',\n",
       " 'Red Hood/Arsenal, Vol. 1: ...',\n",
       " 'Naruto (3-in-1 Edition), Vol. ...',\n",
       " 'Lowriders to the Center ...',\n",
       " 'El Deafo',\n",
       " 'Batman: Europa',\n",
       " 'Art Ops Vol. 1',\n",
       " 'Adulthood Is a Myth: ...',\n",
       " 'Fruits Basket, Vol. 9 ...',\n",
       " 'Roller Girl',\n",
       " 'Fruits Basket, Vol. 7 ...',\n",
       " 'Fruits Basket, Vol. 6 ...',\n",
       " 'Death Note, Vol. 6: ...',\n",
       " 'Fruits Basket, Vol. 5 ...',\n",
       " 'Death Note, Vol. 5: ...',\n",
       " 'The Demon Prince of ...',\n",
       " 'Fruits Basket, Vol. 4 ...',\n",
       " 'The Wicked + The ...',\n",
       " 'The Sandman, Vol. 3: ...',\n",
       " 'Saga, Volume 3 (Saga ...',\n",
       " 'Prodigy: The Graphic Novel ...',\n",
       " 'Persepolis: The Story of ...',\n",
       " 'Original Fake',\n",
       " 'Grayson, Vol 3: Nemesis ...',\n",
       " 'Fruits Basket, Vol. 3 ...',\n",
       " 'Black Butler, Vol. 1 ...',\n",
       " 'Awkward',\n",
       " 'The Sandman, Vol. 2: ...',\n",
       " 'Saga, Volume 2 (Saga ...',\n",
       " 'Fruits Basket, Vol. 2 ...',\n",
       " 'Y: The Last Man, ...',\n",
       " 'The Wicked + The ...',\n",
       " 'The Sandman, Vol. 1: ...',\n",
       " 'The Complete Maus (Maus ...',\n",
       " 'Skip Beat!, Vol. 01 ...',\n",
       " 'Saga, Volume 1 (Saga ...',\n",
       " 'Rat Queens, Vol. 1: ...',\n",
       " 'Paper Girls, Vol. 1 ...',\n",
       " 'Ouran High School Host ...',\n",
       " 'Ms. Marvel, Vol. 1: ...',\n",
       " 'Hawkeye, Vol. 1: My ...',\n",
       " 'Giant Days, Vol. 1 ...',\n",
       " 'Fruits Basket, Vol. 1 ...',\n",
       " 'Bleach, Vol. 1: Strawberry ...',\n",
       " 'Ajin: Demi-Human, Volume 1 ...']"
      ]
     },
     "execution_count": 216,
     "metadata": {},
     "output_type": "execute_result"
    }
   ],
   "source": [
    "lista_nome"
   ]
  },
  {
   "cell_type": "code",
   "execution_count": 132,
   "metadata": {
    "ExecuteTime": {
     "end_time": "2022-04-21T05:12:16.768861Z",
     "start_time": "2022-04-21T05:12:05.849309Z"
    },
    "code_folding": [],
    "collapsed": true
   },
   "outputs": [
    {
     "name": "stdout",
     "output_type": "stream",
     "text": [
      "valor de aux2: 2\n",
      "valor de p: 0\n",
      "[\"It's Only the Himalayas\", 'Full Moon over Noahâ\\x80\\x99s ...', 'See America: A Celebration ...', 'Vagabonding: An Uncommon Guide ...', 'Under the Tuscan Sun', 'A Summer In Europe', 'The Great Railway Bazaar', 'A Year in Provence ...', 'The Road to Little ...', 'Neither Here nor There: ...', '1,000 Places to See ...', 'Sharp Objects', 'In a Dark, Dark ...', 'The Past Never Ends', 'A Murder in Time', 'The Murder of Roger ...', 'The Last Mile (Amos ...', 'That Darkness (Gardiner and ...', 'Tastes Like Fear (DI ...', 'A Time of Torment ...', 'A Study in Scarlet ...', 'Poisonous (Max Revere Novels ...', 'Murder at the 42nd ...', 'Most Wanted', 'Hide Away (Eve Duncan ...', 'Boar Island (Anna Pigeon ...', 'The Widow', 'Playing with Fire', 'What Happened on Beale ...', \"The Bachelor Girl's Guide ...\", 'Delivering the Truth (Quaker ...']\n",
      "https://books.toscrape.com/catalogue/category/books/mystery_3/page-2.html\n",
      "valor de p: 1\n",
      "[\"It's Only the Himalayas\", 'Full Moon over Noahâ\\x80\\x99s ...', 'See America: A Celebration ...', 'Vagabonding: An Uncommon Guide ...', 'Under the Tuscan Sun', 'A Summer In Europe', 'The Great Railway Bazaar', 'A Year in Provence ...', 'The Road to Little ...', 'Neither Here nor There: ...', '1,000 Places to See ...', 'Sharp Objects', 'In a Dark, Dark ...', 'The Past Never Ends', 'A Murder in Time', 'The Murder of Roger ...', 'The Last Mile (Amos ...', 'That Darkness (Gardiner and ...', 'Tastes Like Fear (DI ...', 'A Time of Torment ...', 'A Study in Scarlet ...', 'Poisonous (Max Revere Novels ...', 'Murder at the 42nd ...', 'Most Wanted', 'Hide Away (Eve Duncan ...', 'Boar Island (Anna Pigeon ...', 'The Widow', 'Playing with Fire', 'What Happened on Beale ...', \"The Bachelor Girl's Guide ...\", 'Delivering the Truth (Quaker ...', 'Sharp Objects', 'In a Dark, Dark ...', 'The Past Never Ends', 'A Murder in Time', 'The Murder of Roger ...', 'The Last Mile (Amos ...', 'That Darkness (Gardiner and ...', 'Tastes Like Fear (DI ...', 'A Time of Torment ...', 'A Study in Scarlet ...', 'Poisonous (Max Revere Novels ...', 'Murder at the 42nd ...', 'Most Wanted', 'Hide Away (Eve Duncan ...', 'Boar Island (Anna Pigeon ...', 'The Widow', 'Playing with Fire', 'What Happened on Beale ...', \"The Bachelor Girl's Guide ...\", 'Delivering the Truth (Quaker ...']\n"
     ]
    },
    {
     "data": {
      "text/plain": [
       "[\"It's Only the Himalayas\",\n",
       " 'Full Moon over Noahâ\\x80\\x99s ...',\n",
       " 'See America: A Celebration ...',\n",
       " 'Vagabonding: An Uncommon Guide ...',\n",
       " 'Under the Tuscan Sun',\n",
       " 'A Summer In Europe',\n",
       " 'The Great Railway Bazaar',\n",
       " 'A Year in Provence ...',\n",
       " 'The Road to Little ...',\n",
       " 'Neither Here nor There: ...',\n",
       " '1,000 Places to See ...',\n",
       " 'Sharp Objects',\n",
       " 'In a Dark, Dark ...',\n",
       " 'The Past Never Ends',\n",
       " 'A Murder in Time',\n",
       " 'The Murder of Roger ...',\n",
       " 'The Last Mile (Amos ...',\n",
       " 'That Darkness (Gardiner and ...',\n",
       " 'Tastes Like Fear (DI ...',\n",
       " 'A Time of Torment ...',\n",
       " 'A Study in Scarlet ...',\n",
       " 'Poisonous (Max Revere Novels ...',\n",
       " 'Murder at the 42nd ...',\n",
       " 'Most Wanted',\n",
       " 'Hide Away (Eve Duncan ...',\n",
       " 'Boar Island (Anna Pigeon ...',\n",
       " 'The Widow',\n",
       " 'Playing with Fire',\n",
       " 'What Happened on Beale ...',\n",
       " \"The Bachelor Girl's Guide ...\",\n",
       " 'Delivering the Truth (Quaker ...',\n",
       " 'Sharp Objects',\n",
       " 'In a Dark, Dark ...',\n",
       " 'The Past Never Ends',\n",
       " 'A Murder in Time',\n",
       " 'The Murder of Roger ...',\n",
       " 'The Last Mile (Amos ...',\n",
       " 'That Darkness (Gardiner and ...',\n",
       " 'Tastes Like Fear (DI ...',\n",
       " 'A Time of Torment ...',\n",
       " 'A Study in Scarlet ...',\n",
       " 'Poisonous (Max Revere Novels ...',\n",
       " 'Murder at the 42nd ...',\n",
       " 'Most Wanted',\n",
       " 'Hide Away (Eve Duncan ...',\n",
       " 'Boar Island (Anna Pigeon ...',\n",
       " 'The Widow',\n",
       " 'Playing with Fire',\n",
       " 'What Happened on Beale ...',\n",
       " \"The Bachelor Girl's Guide ...\",\n",
       " 'Delivering the Truth (Quaker ...',\n",
       " 'The Mysterious Affair at ...',\n",
       " 'In the Woods (Dublin ...',\n",
       " 'The Silkworm (Cormoran Strike ...',\n",
       " 'The Exiled',\n",
       " \"The Cuckoo's Calling (Cormoran ...\",\n",
       " 'Extreme Prey (Lucas Davenport ...',\n",
       " 'Career of Evil (Cormoran ...',\n",
       " \"The No. 1 Ladies' ...\",\n",
       " 'The Girl You Lost',\n",
       " 'The Girl In The ...',\n",
       " 'Blood Defense (Samantha Brinkman ...',\n",
       " \"1st to Die (Women's ...\"]"
      ]
     },
     "execution_count": 132,
     "metadata": {},
     "output_type": "execute_result"
    }
   ],
   "source": [
    "# browser = webdriver.Chrome()\n",
    "# # Listas auxiliares\n",
    "# lista_nome = []\n",
    "# lista_preco = []\n",
    "# lista_avaliacao = []\n",
    "# lista_estoque = []\n",
    "\n",
    "# # for i in range (len(lista_categoria)):\n",
    "# #     categoria = lista_categoria[i]\n",
    "# #     url_categoria = lista_url_categoria[i]\n",
    "    \n",
    "# for i in range(2):\n",
    "#     categoria = lista_categoria[i]\n",
    "#     url_categoria = lista_url_categoria[i]\n",
    "#     browser.get(url_categoria)\n",
    "#     page = requests.get(browser.current_url, headers=headers)\n",
    "#     soup = bs(page.text, 'html.parser')\n",
    "#     paginacao = soup.find('li', class_='current')\n",
    "#     if paginacao:\n",
    "#         aux = soup.find('li', class_='current').get_text()\n",
    "#         aux1 = re.findall('\\d{0,}', aux)\n",
    "#         aux2 = list(filter(None, aux1))[1]\n",
    "#         print(f'valor de aux2: {aux2}')\n",
    "#         for p in range(int(aux2)):\n",
    "#             print(f'valor de p: {p}')\n",
    "#             if p == 0:\n",
    "#                 aux_nome = soup.find_all('h3')\n",
    "#                 nome = [p.get_text() for p in aux_nome]\n",
    "#                 lista_nome = lista_nome + nome\n",
    "#                 print(lista_nome)\n",
    "#                 browser.find_element_by_xpath('//*[@id=\"default\"]/div[1]/div/div/div/section/div[2]/div/ul/li[2]/a').click()\n",
    "#                 print(browser.current_url)\n",
    "#                 page = requests.get(browser.current_url, headers=headers)\n",
    "#                 soup = bs(page.text, 'html.parser')\n",
    "                \n",
    "#             elif (p > 0) & (p < len(aux2)):\n",
    "#                 aux_nome = soup.find_all('h3')\n",
    "#                 nome = [p.get_text() for p in aux_nome]\n",
    "#                 lista_nome = lista_nome + nome\n",
    "#                 print(lista_nome)\n",
    "#                 browser.find_element_by_xpath('//*[@id=\"default\"]/div[1]/div/div/div/section/div[2]/div/ul/li[3]/a').click()\n",
    "#                 page = requests.get(browser.current_url, headers=headers)\n",
    "#                 soup = bs(page.text, 'html.parser')\n",
    "                \n",
    "#             else:\n",
    "#                 nome = [p.get_text() for p in aux_nome]\n",
    "#                 lista_nome = lista_nome + nome\n",
    "#                 print(lista_nome)\n",
    "\n",
    "                \n",
    "                \n",
    "#     aux_nome = soup.find_all('h3')\n",
    "#     nome = [p.get_text() for p in aux_nome]\n",
    "#     lista_nome = lista_nome + nome\n",
    "    \n",
    "# lista_nome"
   ]
  },
  {
   "cell_type": "code",
   "execution_count": null,
   "metadata": {},
   "outputs": [],
   "source": [
    "#     if paginacao:\n",
    "#         aux = soup.find('li', class_='current').get_text()\n",
    "#         aux1 = re.findall('\\d{0,}', aux)\n",
    "#         aux2 = list(filter(None, aux1))[1]\n",
    "        \n",
    "#         for p in range(int(aux2)):\n",
    "#             print(p)\n",
    "#             if p == 1:\n",
    "#                 browser.find_element_by_xpath('//*[@id=\"default\"]/div[1]/div/div/div/section/div[2]/div/ul/li[2]/a').click()\n",
    "#                 soup = url_bs(browser.current_url)\n",
    "                \n",
    "#             elif (p > 0) & (p != int(aux2)):\n",
    "#                 aux_nome = soup.find_all('h3')\n",
    "#                 nome = [p.get_text() for p in aux_nome]\n",
    "#                 lista_nome = lista_nome + nome\n",
    "#                 browser.find_element_by_xpath('//*[@id=\"default\"]/div[1]/div/div/div/section/div[2]/div/ul/li[3]/a').click()\n",
    "#                 soup = url_bs(browser.current_url)\n",
    "                \n",
    "#             else:\n",
    "#                 nome = [p.get_text() for p in aux_nome]\n",
    "#                 lista_nome = lista_nome + nome\n",
    "#                 soup = url_bs(browser.current_url)   "
   ]
  },
  {
   "cell_type": "code",
   "execution_count": null,
   "metadata": {},
   "outputs": [],
   "source": [
    "#     if paginacao:\n",
    "#         aux = soup.find('li', class_='current').get_text()\n",
    "#         aux1 = re.findall('\\d{0,}', aux)\n",
    "#         aux2 = list(filter(None, aux1))[1]\n",
    "        \n",
    "#         for p in range(int(aux2)):\n",
    "#             if p == 1:\n",
    "#                 browser.find_element_by_xpath('//*[@id=\"default\"]/div[1]/div/div/div/section/div[2]/div/ul/li[2]/a').click()\n",
    "#                 soup = url_bs(browser.current_url)\n",
    "#                 print(categoria)\n",
    "#                 print(f'valor de p: {p}')\n",
    "#                 print(f'pagina {p + 1}')\n",
    "#                 print(browser.current_url)\n",
    "#                 time.sleep(3)\n",
    "                \n",
    "#             elif (p > 1) & (p != int(aux2)):\n",
    "#                 browser.find_element_by_xpath('//*[@id=\"default\"]/div[1]/div/div/div/section/div[2]/div/ul/li[3]/a').click()\n",
    "#                 soup = url_bs(browser.current_url)\n",
    "#                 print(categoria)\n",
    "#                 print(f'valor de p: {p}')\n",
    "#                 print(f'pagina {p + 1}')\n",
    "#                 print(browser.current_url)\n",
    "#                 time.sleep(3)\n",
    "                \n",
    "#             else:\n",
    "#                 print(categoria)\n",
    "#                 print(f'valor de p: {p}')\n",
    "#                 print(f'pagina {p + 1}')\n",
    "#                 print(browser.current_url)\n",
    "#                 time.sleep(3)\n",
    "                \n",
    "\n",
    "#     else:\n",
    "#         print(categoria)\n",
    "#         print(browser.current_url)\n",
    "#         time.sleep(3)\n",
    "\n",
    "# time.sleep(2)\n",
    "# browser.close()\n"
   ]
  }
 ],
 "metadata": {
  "kernelspec": {
   "display_name": "Python 3",
   "language": "python",
   "name": "python3"
  },
  "language_info": {
   "codemirror_mode": {
    "name": "ipython",
    "version": 3
   },
   "file_extension": ".py",
   "mimetype": "text/x-python",
   "name": "python",
   "nbconvert_exporter": "python",
   "pygments_lexer": "ipython3",
   "version": "3.7.4"
  },
  "varInspector": {
   "cols": {
    "lenName": 16,
    "lenType": 16,
    "lenVar": 40
   },
   "kernels_config": {
    "python": {
     "delete_cmd_postfix": "",
     "delete_cmd_prefix": "del ",
     "library": "var_list.py",
     "varRefreshCmd": "print(var_dic_list())"
    },
    "r": {
     "delete_cmd_postfix": ") ",
     "delete_cmd_prefix": "rm(",
     "library": "var_list.r",
     "varRefreshCmd": "cat(var_dic_list()) "
    }
   },
   "types_to_exclude": [
    "module",
    "function",
    "builtin_function_or_method",
    "instance",
    "_Feature"
   ],
   "window_display": false
  }
 },
 "nbformat": 4,
 "nbformat_minor": 2
}
